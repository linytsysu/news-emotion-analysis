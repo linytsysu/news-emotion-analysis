{
 "cells": [
  {
   "cell_type": "code",
   "execution_count": 3,
   "metadata": {},
   "outputs": [],
   "source": [
    "import os\n",
    "import numpy as np\n",
    "import pandas as pd"
   ]
  },
  {
   "cell_type": "code",
   "execution_count": 4,
   "metadata": {},
   "outputs": [
    {
     "name": "stdout",
     "output_type": "stream",
     "text": [
      "1eb4578f-867e-40b9-8916-76101ba977b8.csv\n",
      "4dd1e81f-5279-4b04-a1cc-e2e752c5dad5.csv\n",
      "fa3a3ddc-acc5-4cf8-9c9a-fadd18ae3f3b.csv\n",
      "58d0cbcc-6267-4848-8418-cf9e8e77fae5.csv\n",
      "6ccdc336-508e-4d24-8f80-283b11e78ee7.csv\n",
      "57e317b5-1c9b-405d-b7ac-b0b7a4644c2d.csv\n",
      "e24ff622-d7bd-4d42-9380-402eb928c949.csv\n"
     ]
    }
   ],
   "source": [
    "path = '/Users/yitinglin/Downloads/submission'\n",
    "label_list = None\n",
    "for file_name in os.listdir(path):\n",
    "    print(file_name)\n",
    "    df = pd.read_csv(os.path.join(path, file_name))\n",
    "    if label_list is None:\n",
    "        label_list = df['label'].values[:, np.newaxis]\n",
    "    else:\n",
    "        label_list = np.concatenate((label_list, df['label'].values[:, np.newaxis]), axis=1)\n",
    "label = []\n",
    "for label_row in label_list:\n",
    "    label.append(np.argmax(np.bincount(label_row)))\n",
    "ids = df['id'].values"
   ]
  },
  {
   "cell_type": "code",
   "execution_count": 5,
   "metadata": {},
   "outputs": [],
   "source": [
    "submission = pd.DataFrame()\n",
    "submission['id'] = ids\n",
    "submission['label'] = label\n",
    "submission.to_csv('./submission.csv', index=None)"
   ]
  },
  {
   "cell_type": "code",
   "execution_count": null,
   "metadata": {},
   "outputs": [],
   "source": []
  }
 ],
 "metadata": {
  "file_extension": ".py",
  "kernelspec": {
   "display_name": "Python 3",
   "language": "python",
   "name": "python3"
  },
  "language_info": {
   "codemirror_mode": {
    "name": "ipython",
    "version": 3
   },
   "file_extension": ".py",
   "mimetype": "text/x-python",
   "name": "python",
   "nbconvert_exporter": "python",
   "pygments_lexer": "ipython3",
   "version": "3.6.8"
  },
  "mimetype": "text/x-python",
  "name": "python",
  "npconvert_exporter": "python",
  "pygments_lexer": "ipython3",
  "version": 3
 },
 "nbformat": 4,
 "nbformat_minor": 2
}
