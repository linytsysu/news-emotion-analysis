{
 "cells": [
  {
   "cell_type": "code",
   "execution_count": 1,
   "metadata": {},
   "outputs": [
    {
     "name": "stderr",
     "output_type": "stream",
     "text": [
      "/Users/yitinglin/Projects/news-emotion-analysis/env/lib/python3.6/site-packages/pandas/compat/__init__.py:84: UserWarning: Could not import the lzma module. Your installed Python is incomplete. Attempting to use lzma compression will result in a RuntimeError.\n",
      "  warnings.warn(msg)\n"
     ]
    }
   ],
   "source": [
    "import os\n",
    "import numpy as np\n",
    "import pandas as pd"
   ]
  },
  {
   "cell_type": "code",
   "execution_count": 2,
   "metadata": {},
   "outputs": [
    {
     "name": "stdout",
     "output_type": "stream",
     "text": [
      "roberta-wwm-ext_prob.csv\n",
      "bert-base_label_prob.csv\n",
      "roberta-wwm-ext_label_prob.csv\n",
      "roberta-wwm-large-ext-normal_prob.csv\n",
      "bert-wwm-ext_label_prob.csv\n",
      "bert-base_prob.csv\n",
      "roberta-wwm-large-ext_label_prob.csv\n"
     ]
    }
   ],
   "source": [
    "path = '/Users/yitinglin/Downloads/submission'\n",
    "new_df = pd.DataFrame()\n",
    "for file_name in os.listdir(path):\n",
    "    if file_name == '.DS_Store':\n",
    "        continue\n",
    "    print(file_name)\n",
    "    df = pd.read_csv(os.path.join(path, file_name))\n",
    "    if not ('prob1' in new_df):\n",
    "        new_df['prob1'] = df['prob1'].values\n",
    "    else:\n",
    "        new_df['prob1'] = new_df['prob1'].values + df['prob1'].values\n",
    "    if not ('prob2' in new_df):\n",
    "        new_df['prob2'] = df['prob2'].values\n",
    "    else:\n",
    "        new_df['prob2'] = new_df['prob2'].values + df['prob2'].values\n",
    "    if not ('prob3' in new_df):\n",
    "        new_df['prob3'] = df['prob3'].values\n",
    "    else:\n",
    "        new_df['prob3'] = new_df['prob3'].values + df['prob3'].values\n",
    "new_df['id'] = df['id'].values"
   ]
  },
  {
   "cell_type": "code",
   "execution_count": 3,
   "metadata": {},
   "outputs": [],
   "source": [
    "new_df = new_df[['id', 'prob1', 'prob2', 'prob3']]\n",
    "new_df['label'] = np.argmax(new_df[['prob1', 'prob2', 'prob3']].values, axis=1)"
   ]
  },
  {
   "cell_type": "code",
   "execution_count": 4,
   "metadata": {},
   "outputs": [],
   "source": [
    "new_df[['id', 'label']].to_csv('./submission.csv', index=None)"
   ]
  },
  {
   "cell_type": "code",
   "execution_count": null,
   "metadata": {},
   "outputs": [],
   "source": [
    "0.775451488746136 0.7825331744393346 0.7840976829448384"
   ]
  }
 ],
 "metadata": {
  "kernelspec": {
   "display_name": "Python 3",
   "language": "python",
   "name": "python3"
  },
  "language_info": {
   "codemirror_mode": {
    "name": "ipython",
    "version": 3
   },
   "file_extension": ".py",
   "mimetype": "text/x-python",
   "name": "python",
   "nbconvert_exporter": "python",
   "pygments_lexer": "ipython3",
   "version": "3.6.8"
  }
 },
 "nbformat": 4,
 "nbformat_minor": 2
}
