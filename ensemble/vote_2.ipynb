{
 "cells": [
  {
   "cell_type": "code",
   "execution_count": 5,
   "metadata": {},
   "outputs": [],
   "source": [
    "import os\n",
    "import numpy as np\n",
    "import pandas as pd"
   ]
  },
  {
   "cell_type": "code",
   "execution_count": 6,
   "metadata": {},
   "outputs": [
    {
     "name": "stdout",
     "output_type": "stream",
     "text": [
      "roberta-wwm-ext_prob.csv\n",
      "roberta-wwm-ext_class_weight_label_prob.csv\n",
      "bert-wwm_prob.csv\n",
      "bert-wwm_class_weight_label_prob.csv\n"
     ]
    }
   ],
   "source": [
    "path = '/Users/yitinglin/Downloads/submission'\n",
    "new_df = pd.DataFrame()\n",
    "for file_name in os.listdir(path):\n",
    "    if file_name.startswith('bert-wwm-ext'):\n",
    "        continue\n",
    "    if file_name.startswith('bert-base_bilstm_attention_label_prob'):\n",
    "        continue\n",
    "    if file_name.endswith('_label_prob.csv') and file_name.find('class_weight') < 0:\n",
    "        continue\n",
    "    if file_name.startswith('bert-base'):\n",
    "        continue\n",
    "    print(file_name)\n",
    "    df = pd.read_csv(os.path.join(path, file_name))\n",
    "    if not ('prob1' in new_df):\n",
    "        new_df['prob1'] = df['prob1'].values\n",
    "    else:\n",
    "        new_df['prob1'] = new_df['prob1'].values + df['prob1'].values\n",
    "    if not ('prob2' in new_df):\n",
    "        new_df['prob2'] = df['prob2'].values\n",
    "    else:\n",
    "        new_df['prob2'] = new_df['prob2'].values + df['prob2'].values\n",
    "    if not ('prob3' in new_df):\n",
    "        new_df['prob3'] = df['prob3'].values\n",
    "    else:\n",
    "        new_df['prob3'] = new_df['prob3'].values + df['prob3'].values\n",
    "new_df['id'] = df['id'].values"
   ]
  },
  {
   "cell_type": "code",
   "execution_count": 7,
   "metadata": {},
   "outputs": [],
   "source": [
    "new_df = new_df[['id', 'prob1', 'prob2', 'prob3']]\n",
    "new_df['label'] = np.argmax(new_df[['prob1', 'prob2', 'prob3']].values, axis=1)"
   ]
  },
  {
   "cell_type": "code",
   "execution_count": 8,
   "metadata": {},
   "outputs": [],
   "source": [
    "new_df[['id', 'label']].to_csv('./submission.csv', index=None)"
   ]
  },
  {
   "cell_type": "code",
   "execution_count": null,
   "metadata": {},
   "outputs": [],
   "source": [
    "0.775451488746136 0.7825331744393346 0.7840976829448384"
   ]
  }
 ],
 "metadata": {
  "kernelspec": {
   "display_name": "Python 3",
   "language": "python",
   "name": "python3"
  },
  "language_info": {
   "codemirror_mode": {
    "name": "ipython",
    "version": 3
   },
   "file_extension": ".py",
   "mimetype": "text/x-python",
   "name": "python",
   "nbconvert_exporter": "python",
   "pygments_lexer": "ipython3",
   "version": "3.6.8"
  }
 },
 "nbformat": 4,
 "nbformat_minor": 2
}
