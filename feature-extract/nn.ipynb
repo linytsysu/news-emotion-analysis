{
 "cells": [
  {
   "cell_type": "code",
   "execution_count": 1,
   "metadata": {},
   "outputs": [
    {
     "name": "stderr",
     "output_type": "stream",
     "text": [
      "/Users/yitinglin/Projects/news-emotion-analysis/env/lib/python3.6/site-packages/pandas/compat/__init__.py:84: UserWarning: Could not import the lzma module. Your installed Python is incomplete. Attempting to use lzma compression will result in a RuntimeError.\n",
      "  warnings.warn(msg)\n",
      "/Users/yitinglin/Projects/news-emotion-analysis/env/lib/python3.6/site-packages/tensorflow/python/framework/dtypes.py:516: FutureWarning: Passing (type, 1) or '1type' as a synonym of type is deprecated; in a future version of numpy, it will be understood as (type, (1,)) / '(1,)type'.\n",
      "  _np_qint8 = np.dtype([(\"qint8\", np.int8, 1)])\n",
      "/Users/yitinglin/Projects/news-emotion-analysis/env/lib/python3.6/site-packages/tensorflow/python/framework/dtypes.py:517: FutureWarning: Passing (type, 1) or '1type' as a synonym of type is deprecated; in a future version of numpy, it will be understood as (type, (1,)) / '(1,)type'.\n",
      "  _np_quint8 = np.dtype([(\"quint8\", np.uint8, 1)])\n",
      "/Users/yitinglin/Projects/news-emotion-analysis/env/lib/python3.6/site-packages/tensorflow/python/framework/dtypes.py:518: FutureWarning: Passing (type, 1) or '1type' as a synonym of type is deprecated; in a future version of numpy, it will be understood as (type, (1,)) / '(1,)type'.\n",
      "  _np_qint16 = np.dtype([(\"qint16\", np.int16, 1)])\n",
      "/Users/yitinglin/Projects/news-emotion-analysis/env/lib/python3.6/site-packages/tensorflow/python/framework/dtypes.py:519: FutureWarning: Passing (type, 1) or '1type' as a synonym of type is deprecated; in a future version of numpy, it will be understood as (type, (1,)) / '(1,)type'.\n",
      "  _np_quint16 = np.dtype([(\"quint16\", np.uint16, 1)])\n",
      "/Users/yitinglin/Projects/news-emotion-analysis/env/lib/python3.6/site-packages/tensorflow/python/framework/dtypes.py:520: FutureWarning: Passing (type, 1) or '1type' as a synonym of type is deprecated; in a future version of numpy, it will be understood as (type, (1,)) / '(1,)type'.\n",
      "  _np_qint32 = np.dtype([(\"qint32\", np.int32, 1)])\n",
      "/Users/yitinglin/Projects/news-emotion-analysis/env/lib/python3.6/site-packages/tensorflow/python/framework/dtypes.py:525: FutureWarning: Passing (type, 1) or '1type' as a synonym of type is deprecated; in a future version of numpy, it will be understood as (type, (1,)) / '(1,)type'.\n",
      "  np_resource = np.dtype([(\"resource\", np.ubyte, 1)])\n",
      "/Users/yitinglin/Projects/news-emotion-analysis/env/lib/python3.6/site-packages/tensorboard/compat/tensorflow_stub/dtypes.py:541: FutureWarning: Passing (type, 1) or '1type' as a synonym of type is deprecated; in a future version of numpy, it will be understood as (type, (1,)) / '(1,)type'.\n",
      "  _np_qint8 = np.dtype([(\"qint8\", np.int8, 1)])\n",
      "/Users/yitinglin/Projects/news-emotion-analysis/env/lib/python3.6/site-packages/tensorboard/compat/tensorflow_stub/dtypes.py:542: FutureWarning: Passing (type, 1) or '1type' as a synonym of type is deprecated; in a future version of numpy, it will be understood as (type, (1,)) / '(1,)type'.\n",
      "  _np_quint8 = np.dtype([(\"quint8\", np.uint8, 1)])\n",
      "/Users/yitinglin/Projects/news-emotion-analysis/env/lib/python3.6/site-packages/tensorboard/compat/tensorflow_stub/dtypes.py:543: FutureWarning: Passing (type, 1) or '1type' as a synonym of type is deprecated; in a future version of numpy, it will be understood as (type, (1,)) / '(1,)type'.\n",
      "  _np_qint16 = np.dtype([(\"qint16\", np.int16, 1)])\n",
      "/Users/yitinglin/Projects/news-emotion-analysis/env/lib/python3.6/site-packages/tensorboard/compat/tensorflow_stub/dtypes.py:544: FutureWarning: Passing (type, 1) or '1type' as a synonym of type is deprecated; in a future version of numpy, it will be understood as (type, (1,)) / '(1,)type'.\n",
      "  _np_quint16 = np.dtype([(\"quint16\", np.uint16, 1)])\n",
      "/Users/yitinglin/Projects/news-emotion-analysis/env/lib/python3.6/site-packages/tensorboard/compat/tensorflow_stub/dtypes.py:545: FutureWarning: Passing (type, 1) or '1type' as a synonym of type is deprecated; in a future version of numpy, it will be understood as (type, (1,)) / '(1,)type'.\n",
      "  _np_qint32 = np.dtype([(\"qint32\", np.int32, 1)])\n",
      "/Users/yitinglin/Projects/news-emotion-analysis/env/lib/python3.6/site-packages/tensorboard/compat/tensorflow_stub/dtypes.py:550: FutureWarning: Passing (type, 1) or '1type' as a synonym of type is deprecated; in a future version of numpy, it will be understood as (type, (1,)) / '(1,)type'.\n",
      "  np_resource = np.dtype([(\"resource\", np.ubyte, 1)])\n"
     ]
    }
   ],
   "source": [
    "import numpy as np\n",
    "import pandas as pd\n",
    "from tqdm import tqdm\n",
    "import tensorflow as tf"
   ]
  },
  {
   "cell_type": "code",
   "execution_count": 2,
   "metadata": {},
   "outputs": [],
   "source": [
    "content_df = pd.read_csv('../data/Train_Dataset.csv')\n",
    "label_df = pd.read_csv('../data/Train_Dataset_Label.csv')\n",
    "train_df = content_df.merge(label_df, on='id')\n",
    "train_df = train_df.fillna('EMPTY')"
   ]
  },
  {
   "cell_type": "code",
   "execution_count": 3,
   "metadata": {},
   "outputs": [],
   "source": [
    "test_df = pd.read_csv('../data/Test_Dataset.csv')\n",
    "test_df = test_df.fillna('EMPTY')\n",
    "test_title_data = pd.read_csv('./bert-base/test_title_word_vector.csv', header=None).values\n",
    "test_content_data = pd.read_csv('./bert-base/test_content_word_vector.csv', header=None).values\n",
    "test_tail_data = pd.read_csv('./bert-base/test_tail_word_vector.csv', header=None).values\n",
    "X_test = np.concatenate((test_title_data, test_content_data, test_tail_data), axis=1)"
   ]
  },
  {
   "cell_type": "code",
   "execution_count": 4,
   "metadata": {},
   "outputs": [
    {
     "name": "stderr",
     "output_type": "stream",
     "text": [
      "Using TensorFlow backend.\n"
     ]
    }
   ],
   "source": [
    "y = train_df['label'].values\n",
    "train_title_data = pd.read_csv('./bert-base/train_title_word_vector.csv', header=None).values\n",
    "train_content_data = pd.read_csv('./bert-base/train_content_word_vector.csv', header=None).values\n",
    "train_tail_data = pd.read_csv('./bert-base/train_tail_word_vector.csv', header=None).values\n",
    "X = np.concatenate((train_title_data, train_content_data, train_tail_data), axis=1)\n",
    "\n",
    "from sklearn.preprocessing import LabelEncoder\n",
    "import keras\n",
    "\n",
    "encoder = LabelEncoder()\n",
    "y = encoder.fit_transform(y)\n",
    "y = keras.utils.np_utils.to_categorical(y)\n"
   ]
  },
  {
   "cell_type": "code",
   "execution_count": 11,
   "metadata": {},
   "outputs": [
    {
     "name": "stdout",
     "output_type": "stream",
     "text": [
      "0\n",
      "0.5975266786782165\n",
      "1\n",
      "0.5575967144511238\n",
      "2\n",
      "0.5356636282437143\n",
      "3\n"
     ]
    },
    {
     "name": "stderr",
     "output_type": "stream",
     "text": [
      "/Users/yitinglin/Projects/news-emotion-analysis/env/lib/python3.6/site-packages/sklearn/metrics/classification.py:1437: UndefinedMetricWarning: F-score is ill-defined and being set to 0.0 in labels with no predicted samples.\n",
      "  'precision', 'predicted', average, warn_for)\n",
      "/Users/yitinglin/Projects/news-emotion-analysis/env/lib/python3.6/site-packages/sklearn/metrics/classification.py:1437: UndefinedMetricWarning: F-score is ill-defined and being set to 0.0 in labels with no predicted samples.\n",
      "  'precision', 'predicted', average, warn_for)\n"
     ]
    },
    {
     "name": "stdout",
     "output_type": "stream",
     "text": [
      "0.5198632326518015\n",
      "4\n",
      "0.5669043357333513\n",
      "0.5555109179516415\n"
     ]
    }
   ],
   "source": [
    "from sklearn.model_selection import KFold\n",
    "from sklearn.metrics import f1_score\n",
    "\n",
    "kf = KFold(5, shuffle=True, random_state=2019)\n",
    "\n",
    "model_list = []\n",
    "score_list = []\n",
    "for index, (train_index, valid_index) in enumerate(kf.split(X, y)):\n",
    "    print(index)\n",
    "    temp_model = []\n",
    "    temp_score = []\n",
    "    for i in range(5):\n",
    "        X_train, X_valid, y_train, y_valid = X[train_index], X[valid_index], y[train_index], y[valid_index]\n",
    "\n",
    "\n",
    "#         inputs = tf.keras.Input(shape=(768 * 3,))\n",
    "#         reshape = tf.keras.layers.Reshape((128, 18))(inputs)\n",
    "#         h1 = tf.keras.layers.Conv1D(64, 3, activation='relu', input_shape=(128, 18))(reshape)\n",
    "#         h2 = tf.keras.layers.Conv1D(64, 3, activation='relu')(h1)\n",
    "#         p1 = tf.keras.layers.MaxPooling1D(pool_size=2)(h2)\n",
    "#         h3 = tf.keras.layers.Conv1D(128, 3, activation='relu')(p1)\n",
    "#         p2 = tf.keras.layers.MaxPooling1D(pool_size=2)(h3)\n",
    "\n",
    "#         bilstm = tf.keras.layers.Bidirectional(tf.keras.layers.LSTM(64))(p2)\n",
    "\n",
    "#         attention = tf.keras.layers.Dense(1, activation='tanh')(bilstm)\n",
    "#         attention = tf.keras.layers.Flatten()(attention)\n",
    "#         attention = tf.keras.layers.Activation('softmax')(attention)\n",
    "#         attention = tf.keras.layers.RepeatVector(64 * 2)(attention)\n",
    "#         attention = tf.keras.layers.Permute((2, 1))(attention)\n",
    "\n",
    "#         x = tf.keras.layers.multiply([bilstm, attention])\n",
    "#         x = tf.keras.layers.Lambda(lambda xx: tf.keras.backend.sum(xx, axis=1))(x)\n",
    "\n",
    "#         output = tf.keras.layers.Dense(3, activation='softmax')(x)\n",
    "#         model = tf.keras.models.Model(inputs=inputs, outputs=output)\n",
    "\n",
    "\n",
    "#         inputs = tf.keras.Input(shape=(768 *3,))\n",
    "#         h1 = tf.keras.layers.Dense(128, activation='relu')(inputs)\n",
    "#         h2 = tf.keras.layers.Dense(128, activation='relu')(h1)\n",
    "\n",
    "#         h2 = tf.keras.layers.Reshape((2, 64))(h2)\n",
    "#         bilstm = tf.keras.layers.Bidirectional(tf.keras.layers.LSTM(128))(h2)\n",
    "        \n",
    "#         attention = tf.keras.layers.Dense(1, activation='tanh')(bilstm)\n",
    "#         attention = tf.keras.layers.Flatten()(attention)\n",
    "#         attention = tf.keras.layers.Activation('softmax')(attention)\n",
    "#         attention = tf.keras.layers.RepeatVector(64)(attention)\n",
    "#         attention = tf.keras.layers.Permute((2, 1))(attention)\n",
    "\n",
    "#         x = tf.keras.layers.multiply([h2, attention])\n",
    "#         x = tf.keras.layers.Lambda(lambda xx: tf.keras.backend.sum(xx, axis=1))(x)\n",
    "\n",
    "#         x = tf.keras.layers.Dense(32, activation='relu')(x)\n",
    "#         output = tf.keras.layers.Dense(3, activation='softmax')(x)\n",
    "#         model = tf.keras.models.Model(inputs=inputs, outputs=output)\n",
    "\n",
    "\n",
    "        title_inputs = tf.keras.Input(shape=(768,))\n",
    "        content_inputs = tf.keras.Input(shape=(768,))\n",
    "        attention = tf.keras.layers.Attention()([title_inputs, content_inputs])\n",
    "        x = tf.keras.layers.Flatten()(attention)\n",
    "        x = tf.keras.layers.Dense(32, activation='relu')(x)\n",
    "        output = tf.keras.layers.Dense(3, activation='softmax')(x)\n",
    "        model = tf.keras.models.Model(inputs=[title_inputs, content_inputs], outputs=output)\n",
    "\n",
    "        model.compile(optimizer='adam', loss='categorical_crossentropy', metrics=['categorical_accuracy'])\n",
    "        early_stop = tf.keras.callbacks.EarlyStopping(monitor='val_loss', patience=5)\n",
    "        model.fit([X_train[:, :768], X_train[:, 768: 768 * 2]], y_train, validation_data=([X_valid[:, :768], X_valid[:, 768: 768 * 2]], y_valid), callbacks=[early_stop], batch_size=32, epochs=20, verbose=0)\n",
    "\n",
    "        y_pred = model.predict([X_valid[:, :768], X_valid[:, 768: 768 * 2]])\n",
    "        y_valid = np.argmax(y_valid, axis=1)\n",
    "        y_pred = np.argmax(y_pred, axis=1)\n",
    "        valid_score = f1_score(y_valid, y_pred, average='macro')\n",
    "        temp_model.append(model)\n",
    "        temp_score.append(valid_score)\n",
    "    best_idx = np.argmax(temp_score)\n",
    "    model_list.append(temp_model[best_idx])\n",
    "    print(temp_score[best_idx])\n",
    "    score_list.append(temp_score[best_idx])\n",
    "print(np.mean(score_list))"
   ]
  },
  {
   "cell_type": "code",
   "execution_count": 10,
   "metadata": {},
   "outputs": [],
   "source": [
    "y_pred = None\n",
    "for model in model_list:\n",
    "    if y_pred is None:\n",
    "        y_pred = model.predict(X_test)\n",
    "    else:\n",
    "        y_pred = y_pred + model.predict(X_test)\n",
    "y_pred = np.argmax(y_pred / 5, axis=1)"
   ]
  },
  {
   "cell_type": "code",
   "execution_count": 11,
   "metadata": {},
   "outputs": [],
   "source": [
    "submission_df = pd.DataFrame()\n",
    "submission_df['id'] = test_df['id'].values\n",
    "submission_df['label'] = y_pred\n",
    "submission_df.to_csv('./submission.csv', index=False)"
   ]
  },
  {
   "cell_type": "code",
   "execution_count": 8,
   "metadata": {},
   "outputs": [],
   "source": [
    "fine_tune_submission_df = pd.read_csv('/Users/yitinglin/Desktop/submission.csv')\n",
    "fine_tune_label = fine_tune_submission_df['label'].values + 1\n",
    "feature_extract_label = submission_df['label'].values\n",
    "label = []\n",
    "for i in range(len(feature_extract_label)):\n",
    "    if feature_extract_label[i] == 0:\n",
    "        label.append(feature_extract_label[i])\n",
    "        continue\n",
    "    if feature_extract_label[i] != fine_tune_label[i]:\n",
    "        label.append(fine_tune_label[i])\n",
    "    else:\n",
    "        label.append(feature_extract_label[i])\n",
    "submission_df['label'] = label"
   ]
  },
  {
   "cell_type": "code",
   "execution_count": 9,
   "metadata": {},
   "outputs": [],
   "source": [
    "submission_df.to_csv('./submission.csv', index=False)"
   ]
  },
  {
   "cell_type": "code",
   "execution_count": null,
   "metadata": {},
   "outputs": [],
   "source": []
  }
 ],
 "metadata": {
  "kernelspec": {
   "display_name": "Python 3",
   "language": "python",
   "name": "python3"
  },
  "language_info": {
   "codemirror_mode": {
    "name": "ipython",
    "version": 3
   },
   "file_extension": ".py",
   "mimetype": "text/x-python",
   "name": "python",
   "nbconvert_exporter": "python",
   "pygments_lexer": "ipython3",
   "version": "3.6.8"
  }
 },
 "nbformat": 4,
 "nbformat_minor": 2
}
