{
 "cells": [
  {
   "cell_type": "code",
   "execution_count": 1,
   "metadata": {},
   "outputs": [
    {
     "name": "stderr",
     "output_type": "stream",
     "text": [
      "/Users/yitinglin/Projects/news-emotion-analysis/env/lib/python3.6/site-packages/pandas/compat/__init__.py:84: UserWarning: Could not import the lzma module. Your installed Python is incomplete. Attempting to use lzma compression will result in a RuntimeError.\n",
      "  warnings.warn(msg)\n",
      "/Users/yitinglin/Projects/news-emotion-analysis/env/lib/python3.6/site-packages/lightgbm/__init__.py:46: UserWarning: Starting from version 2.2.1, the library file in distribution wheels for macOS is built by the Apple Clang (Xcode_8.3.3) compiler.\n",
      "This means that in case of installing LightGBM from PyPI via the ``pip install lightgbm`` command, you don't need to install the gcc compiler anymore.\n",
      "Instead of that, you need to install the OpenMP library, which is required for running LightGBM on the system with the Apple Clang compiler.\n",
      "You can install the OpenMP library by the following command: ``brew install libomp``.\n",
      "  \"You can install the OpenMP library by the following command: ``brew install libomp``.\", UserWarning)\n"
     ]
    }
   ],
   "source": [
    "import numpy as np\n",
    "import pandas as pd\n",
    "from tqdm import tqdm\n",
    "import lightgbm as lgb"
   ]
  },
  {
   "cell_type": "code",
   "execution_count": 2,
   "metadata": {},
   "outputs": [],
   "source": [
    "content_df = pd.read_csv('../data/Train_Dataset.csv')\n",
    "label_df = pd.read_csv('../data/Train_Dataset_Label.csv')\n",
    "train_df = content_df.merge(label_df, on='id')\n",
    "train_df = train_df.fillna('EMPTY')"
   ]
  },
  {
   "cell_type": "code",
   "execution_count": 22,
   "metadata": {},
   "outputs": [],
   "source": [
    "test_df = pd.read_csv('../data/Test_Dataset.csv')\n",
    "test_df = test_df.fillna('EMPTY')\n",
    "test_title_data = pd.read_csv('./test_title_word_vector.csv', header=None).values\n",
    "test_content_data = pd.read_csv('./test_content_word_vector.csv', header=None).values\n",
    "test_tail_data = pd.read_csv('./test_tail_word_vector.csv', header=None).values\n",
    "X_test = np.concatenate((test_title_data, test_content_data, test_tail_data), axis=1)"
   ]
  },
  {
   "cell_type": "code",
   "execution_count": 23,
   "metadata": {},
   "outputs": [],
   "source": [
    "y = train_df['label'].values\n",
    "train_title_data = pd.read_csv('./train_title_word_vector.csv', header=None).values\n",
    "train_content_data = pd.read_csv('./train_content_word_vector.csv', header=None).values\n",
    "train_tail_data = pd.read_csv('./train_tail_word_vector.csv', header=None).values\n",
    "X = np.concatenate((train_title_data, train_content_data, train_tail_data), axis=1)"
   ]
  },
  {
   "cell_type": "code",
   "execution_count": 29,
   "metadata": {},
   "outputs": [],
   "source": [
    "model = lgb.LGBMClassifier(learning_rate=0.1, n_estimators=100)"
   ]
  },
  {
   "cell_type": "code",
   "execution_count": 30,
   "metadata": {},
   "outputs": [
    {
     "name": "stdout",
     "output_type": "stream",
     "text": [
      "0\n",
      "[10]\tvalid_0's multi_logloss: 0.768895\n",
      "[20]\tvalid_0's multi_logloss: 0.66059\n",
      "[30]\tvalid_0's multi_logloss: 0.592283\n",
      "[40]\tvalid_0's multi_logloss: 0.544296\n",
      "[50]\tvalid_0's multi_logloss: 0.512642\n",
      "[60]\tvalid_0's multi_logloss: 0.488589\n",
      "[70]\tvalid_0's multi_logloss: 0.471248\n",
      "[80]\tvalid_0's multi_logloss: 0.458166\n",
      "[90]\tvalid_0's multi_logloss: 0.448973\n",
      "[100]\tvalid_0's multi_logloss: 0.440605\n",
      "0.7339986656538774\n",
      "1\n",
      "[10]\tvalid_0's multi_logloss: 0.7515\n",
      "[20]\tvalid_0's multi_logloss: 0.643626\n",
      "[30]\tvalid_0's multi_logloss: 0.575992\n",
      "[40]\tvalid_0's multi_logloss: 0.530146\n",
      "[50]\tvalid_0's multi_logloss: 0.497139\n",
      "[60]\tvalid_0's multi_logloss: 0.473081\n",
      "[70]\tvalid_0's multi_logloss: 0.455587\n",
      "[80]\tvalid_0's multi_logloss: 0.441997\n",
      "[90]\tvalid_0's multi_logloss: 0.432054\n",
      "[100]\tvalid_0's multi_logloss: 0.422949\n",
      "0.7472889119017702\n",
      "2\n",
      "[10]\tvalid_0's multi_logloss: 0.751593\n",
      "[20]\tvalid_0's multi_logloss: 0.643615\n",
      "[30]\tvalid_0's multi_logloss: 0.576197\n",
      "[40]\tvalid_0's multi_logloss: 0.531871\n",
      "[50]\tvalid_0's multi_logloss: 0.500984\n",
      "[60]\tvalid_0's multi_logloss: 0.477578\n",
      "[70]\tvalid_0's multi_logloss: 0.459775\n",
      "[80]\tvalid_0's multi_logloss: 0.446762\n",
      "[90]\tvalid_0's multi_logloss: 0.437539\n",
      "[100]\tvalid_0's multi_logloss: 0.429726\n",
      "0.7165086059074995\n",
      "3\n",
      "[10]\tvalid_0's multi_logloss: 0.759194\n",
      "[20]\tvalid_0's multi_logloss: 0.649298\n",
      "[30]\tvalid_0's multi_logloss: 0.579833\n",
      "[40]\tvalid_0's multi_logloss: 0.532322\n",
      "[50]\tvalid_0's multi_logloss: 0.500278\n",
      "[60]\tvalid_0's multi_logloss: 0.474885\n",
      "[70]\tvalid_0's multi_logloss: 0.455867\n",
      "[80]\tvalid_0's multi_logloss: 0.443059\n",
      "[90]\tvalid_0's multi_logloss: 0.432765\n",
      "[100]\tvalid_0's multi_logloss: 0.425568\n",
      "0.744471632377305\n",
      "4\n",
      "[10]\tvalid_0's multi_logloss: 0.776356\n",
      "[20]\tvalid_0's multi_logloss: 0.668983\n",
      "[30]\tvalid_0's multi_logloss: 0.602858\n",
      "[40]\tvalid_0's multi_logloss: 0.556805\n",
      "[50]\tvalid_0's multi_logloss: 0.524318\n",
      "[60]\tvalid_0's multi_logloss: 0.501266\n",
      "[70]\tvalid_0's multi_logloss: 0.484034\n",
      "[80]\tvalid_0's multi_logloss: 0.470661\n",
      "[90]\tvalid_0's multi_logloss: 0.460834\n",
      "[100]\tvalid_0's multi_logloss: 0.454283\n",
      "0.7260480647289856\n"
     ]
    }
   ],
   "source": [
    "from sklearn.model_selection import KFold\n",
    "from sklearn.metrics import f1_score\n",
    "\n",
    "kf = KFold(5, shuffle=True, random_state=2019)\n",
    "for index, (train_index, valid_index) in enumerate(kf.split(X, y)):\n",
    "    print(index)\n",
    "    X_train, X_valid, y_train, y_valid = X[train_index], X[valid_index], y[train_index], y[valid_index]\n",
    "    model.fit(X=X_train, y=y_train, eval_set=(X_valid, y_valid), verbose=10)\n",
    "    y_pred = model.predict(X_valid)\n",
    "    valid_score = f1_score(y_valid, y_pred, average='macro')\n",
    "    print(valid_score)"
   ]
  },
  {
   "cell_type": "code",
   "execution_count": null,
   "metadata": {},
   "outputs": [],
   "source": []
  }
 ],
 "metadata": {
  "kernelspec": {
   "display_name": "Python 3",
   "language": "python",
   "name": "python3"
  },
  "language_info": {
   "codemirror_mode": {
    "name": "ipython",
    "version": 3
   },
   "file_extension": ".py",
   "mimetype": "text/x-python",
   "name": "python",
   "nbconvert_exporter": "python",
   "pygments_lexer": "ipython3",
   "version": "3.6.8"
  }
 },
 "nbformat": 4,
 "nbformat_minor": 2
}
