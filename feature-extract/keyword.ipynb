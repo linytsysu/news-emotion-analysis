{
 "cells": [
  {
   "cell_type": "code",
   "execution_count": 1,
   "metadata": {},
   "outputs": [
    {
     "name": "stderr",
     "output_type": "stream",
     "text": [
      "/Users/yitinglin/Projects/news-emotion-analysis/env/lib/python3.6/site-packages/pandas/compat/__init__.py:84: UserWarning: Could not import the lzma module. Your installed Python is incomplete. Attempting to use lzma compression will result in a RuntimeError.\n",
      "  warnings.warn(msg)\n"
     ]
    }
   ],
   "source": [
    "import numpy as np\n",
    "import pandas as pd\n",
    "from tqdm import tqdm\n",
    "import jieba.analyse\n",
    "from bert_serving.client import BertClient"
   ]
  },
  {
   "cell_type": "code",
   "execution_count": 2,
   "metadata": {},
   "outputs": [],
   "source": [
    "bert_client = BertClient()"
   ]
  },
  {
   "cell_type": "code",
   "execution_count": 3,
   "metadata": {},
   "outputs": [],
   "source": [
    "content_df = pd.read_csv('../data/Train_Dataset.csv')\n",
    "label_df = pd.read_csv('../data/Train_Dataset_Label.csv')"
   ]
  },
  {
   "cell_type": "code",
   "execution_count": 4,
   "metadata": {},
   "outputs": [
    {
     "data": {
      "text/plain": [
       "(7340, 4)"
      ]
     },
     "execution_count": 4,
     "metadata": {},
     "output_type": "execute_result"
    }
   ],
   "source": [
    "train_df = content_df.merge(label_df, on='id')\n",
    "train_df = train_df.fillna('EMPTY')\n",
    "train_df.shape"
   ]
  },
  {
   "cell_type": "code",
   "execution_count": 7,
   "metadata": {},
   "outputs": [],
   "source": [
    "str_list = []\n",
    "for i in range(train_df.shape[0]):\n",
    "    title = train_df.title.values[i]\n",
    "    content = train_df.content.values[i]\n",
    "    content_ad_keyword = jieba.analyse.textrank(title+content, topK=50, withWeight=False, allowPOS=('a'))\n",
    "    content_nv_keyword = jieba.analyse.textrank(title+content, topK=50, withWeight=False, allowPOS=('n', 'v'))\n",
    "    keyword_str = ' '.join(content_ad_keyword + content_nv_keyword)\n",
    "    if len(keyword_str) == 0:\n",
    "        str_list.append('EMPTY')\n",
    "    else:\n",
    "        str_list.append(keyword_str)"
   ]
  },
  {
   "cell_type": "code",
   "execution_count": 10,
   "metadata": {},
   "outputs": [
    {
     "name": "stdout",
     "output_type": "stream",
     "text": [
      "(7340, 768)\n"
     ]
    }
   ],
   "source": [
    "train_data = bert_client.encode(str_list)\n",
    "print(train_data.shape)\n",
    "pd.DataFrame(train_data).to_csv('./train_keyword_word_vector.csv', header=None, index=None)"
   ]
  },
  {
   "cell_type": "code",
   "execution_count": 11,
   "metadata": {},
   "outputs": [
    {
     "data": {
      "text/plain": [
       "(7356, 3)"
      ]
     },
     "execution_count": 11,
     "metadata": {},
     "output_type": "execute_result"
    }
   ],
   "source": [
    "test_df = pd.read_csv('../data/Test_Dataset.csv')\n",
    "test_df = test_df.fillna('EMPTY')\n",
    "test_df.shape"
   ]
  },
  {
   "cell_type": "code",
   "execution_count": 12,
   "metadata": {},
   "outputs": [],
   "source": [
    "str_list = []\n",
    "for i in range(test_df.shape[0]):\n",
    "    title = test_df.title.values[i]\n",
    "    content = test_df.content.values[i]\n",
    "    content_ad_keyword = jieba.analyse.textrank(title+content, topK=50, withWeight=False, allowPOS=('a'))\n",
    "    content_nv_keyword = jieba.analyse.textrank(title+content, topK=50, withWeight=False, allowPOS=('n', 'v'))\n",
    "    keyword_str = ' '.join(content_ad_keyword + content_nv_keyword)\n",
    "    if len(keyword_str) == 0:\n",
    "        str_list.append('EMPTY')\n",
    "    else:\n",
    "        str_list.append(keyword_str)"
   ]
  },
  {
   "cell_type": "code",
   "execution_count": 13,
   "metadata": {},
   "outputs": [
    {
     "name": "stdout",
     "output_type": "stream",
     "text": [
      "(7356, 768)\n"
     ]
    }
   ],
   "source": [
    "test_data = bert_client.encode(str_list)\n",
    "print(test_data.shape)\n",
    "pd.DataFrame(test_data).to_csv('./test_keyword_word_vector.csv', header=None, index=None)"
   ]
  },
  {
   "cell_type": "code",
   "execution_count": null,
   "metadata": {},
   "outputs": [],
   "source": []
  }
 ],
 "metadata": {
  "kernelspec": {
   "display_name": "Python 3",
   "language": "python",
   "name": "python3"
  },
  "language_info": {
   "codemirror_mode": {
    "name": "ipython",
    "version": 3
   },
   "file_extension": ".py",
   "mimetype": "text/x-python",
   "name": "python",
   "nbconvert_exporter": "python",
   "pygments_lexer": "ipython3",
   "version": "3.6.8"
  }
 },
 "nbformat": 4,
 "nbformat_minor": 2
}
